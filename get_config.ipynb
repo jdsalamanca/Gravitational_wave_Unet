{
 "cells": [
  {
   "cell_type": "code",
   "execution_count": null,
   "metadata": {},
   "outputs": [],
   "source": [
    "def  get_config() -> dict:\n",
    "  #The drive path:\n",
    "  if os.path.exists('/content/drive/MyDrive/TFM/CONFIG.jason'):\n",
    "    file_path= '/content/drive/MyDrive/TFM/CONFIG.jason'\n",
    "\n",
    "  #The manual upload path:\n",
    "  elif os.path.exists('/content/CONFIG.jason'):\n",
    "    file_path='/content/CONFIG.jason'\n",
    "\n",
    "  else:\n",
    "    raise FileNotFoundError('Configuration file not found')\n",
    "\n",
    "  with open(file_path, 'r') as config_file:\n",
    "    config = json.load(config_file)\n",
    "\n",
    "  return config"
   ]
  }
 ],
 "metadata": {
  "language_info": {
   "name": "python"
  },
  "orig_nbformat": 4
 },
 "nbformat": 4,
 "nbformat_minor": 2
}
